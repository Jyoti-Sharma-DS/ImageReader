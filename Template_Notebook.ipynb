{
 "cells": [
  {
   "cell_type": "markdown",
   "id": "f5596348",
   "metadata": {},
   "source": [
    "<div> \n",
    " <div align=\"left\"> <img src=\"JO_LOGO.gif\" width=\"500\" height=\"500\" align=\"left\">  </div>\n",
    " <div> <h1> <br/> <br/> <br/> <br/> Project: Project Name </h1> </div>\n",
    "</div>"
   ]
  },
  {
   "cell_type": "markdown",
   "id": "2b7b69dd",
   "metadata": {},
   "source": [
    "------------------------------------------------------------------------------\n",
    "------------------------------------------------------------------------------"
   ]
  },
  {
   "cell_type": "markdown",
   "id": "bf35dfbc",
   "metadata": {},
   "source": [
    "<div align=\"left\"> <img src=\"ProjectOverview.jpeg\" width=\"200\" height=\"200\" align=\"left\"> </div>\n",
    "<div> <p align=\"right\"> <h3> <br><br><br><br>Project Overview </h3> </p> </div>"
   ]
  },
  {
   "cell_type": "markdown",
   "id": "0293b641",
   "metadata": {},
   "source": [
    "Summary of the project"
   ]
  },
  {
   "cell_type": "code",
   "execution_count": null,
   "id": "9e5cbe5c",
   "metadata": {},
   "outputs": [],
   "source": []
  },
  {
   "cell_type": "code",
   "execution_count": null,
   "id": "ab98e792",
   "metadata": {},
   "outputs": [],
   "source": []
  },
  {
   "cell_type": "markdown",
   "id": "d70ccbf6",
   "metadata": {},
   "source": [
    "----------------------------------------------------------------------------------------------"
   ]
  },
  {
   "cell_type": "markdown",
   "id": "d8d81db6",
   "metadata": {},
   "source": [
    "<div> \n",
    "    <div align=\"left\"><img src=\"data.png\" width=\"50\" height=\"50\" align=\"left\">\n",
    "    </div>\n",
    "    <div >\n",
    "        <p align=\"left\"><h4><br>Data source Overview</h4> </p>\n",
    "    </div>\n",
    "</div>"
   ]
  },
  {
   "cell_type": "markdown",
   "id": "853e9fbb",
   "metadata": {},
   "source": [
    "----------------------------------------------------------------------------------------------"
   ]
  },
  {
   "cell_type": "markdown",
   "id": "26c746fc",
   "metadata": {},
   "source": [
    "<html>\n",
    "    <div align=\"left\"><img src=\"config.gif\" width=\"50\" height=\"50\" align=\"left\">\n",
    "    </div>\n",
    "     <div align=\"left\">\n",
    "         <h3><br>Initial Setup </h3>\n",
    "    </div>\n",
    "</html>\n",
    "\n",
    " - ###### Import all the required libraries"
   ]
  },
  {
   "cell_type": "code",
   "execution_count": 3,
   "id": "b6a37f96",
   "metadata": {},
   "outputs": [],
   "source": [
    "# Import the required Libraries\n",
    "import os\n",
    "import math\n",
    "import random\n",
    "import copy\n",
    "import warnings\n",
    "import matplotlib\n",
    "import seaborn as sns\n",
    "import pandas as pd\n",
    "import numpy as np"
   ]
  },
  {
   "cell_type": "markdown",
   "id": "6fc94983",
   "metadata": {},
   "source": [
    " - ###### Set the random seed and load the data into data frame"
   ]
  },
  {
   "cell_type": "code",
   "execution_count": 4,
   "id": "20bc5d98",
   "metadata": {},
   "outputs": [],
   "source": [
    "# Set the file path\n",
    "str_filename_csv = \"\"\n",
    "data_file_path=os.path.join(os.path.abspath('') , \"Data\",str_filename_csv)\n",
    "# Set the random seed\n",
    "random_seed=1212\n",
    "# Set the random seed for python environment \n",
    "os.environ['PYTHONHASHSEED']=str(random_seed)\n",
    "# Set numpy random seed\n",
    "np.random.seed(random_seed)\n",
    "# Set the random seed value\n",
    "random.seed(random_seed)\n",
    "# Setup List for storing the classfier, accuracy, f1 score and datatset type\n",
    "eval_report=list()\n",
    "# Filter out the warnings\n",
    "warnings.filterwarnings('ignore')\n",
    "# Load the data from csv file\n",
    "#pd_pt_data=pd.read_csv(data_file_path)\n",
    "# view the data\n",
    "#pd_pt_data.head()"
   ]
  },
  {
   "cell_type": "markdown",
   "id": "4908ef98",
   "metadata": {},
   "source": [
    " - ###### Define functions and Classes"
   ]
  },
  {
   "cell_type": "code",
   "execution_count": null,
   "id": "4bfa6aa2",
   "metadata": {},
   "outputs": [],
   "source": [
    "# function 1\n",
    "def function_name_1 ( lstSentences, sentences=True ):\n",
    "    ''' Text preprocessing:\n",
    "    Input: \n",
    "    This function takes two inputs lstSentences and sentences\n",
    "    lstSentences: Is list of text which needs to be preprocessed\n",
    "    sentences: Boolean flag if true returns output in cleaned sentences \n",
    "                else in word token format\n",
    "    Output:\n",
    "    This function returns a list containing either cleaned sentences or \n",
    "    cleaned sentences word tokens\n",
    "    '''"
   ]
  },
  {
   "cell_type": "markdown",
   "id": "cba2b2d5",
   "metadata": {},
   "source": [
    "----------------------------------------------------------------------------------------------"
   ]
  },
  {
   "cell_type": "markdown",
   "id": "2caed970",
   "metadata": {},
   "source": [
    "<div> \n",
    "    <div align=\"left\">\n",
    "        <img src=\"EDA.jpeg\" width=\"250\" height=\"250\"  align=\"left\">\n",
    "    </div>\n",
    "    <div>\n",
    "        <p align=\"right\"><h3><br><br><br><br>Exploratory Data Analysis</h3></p>\n",
    "    </div>\n",
    "</div>"
   ]
  },
  {
   "cell_type": "code",
   "execution_count": null,
   "id": "5a685a1a",
   "metadata": {},
   "outputs": [],
   "source": []
  },
  {
   "cell_type": "markdown",
   "id": "0742bfa1",
   "metadata": {},
   "source": [
    "----------------------------------------------------------------------------------------------"
   ]
  },
  {
   "cell_type": "markdown",
   "id": "6b3347d7",
   "metadata": {},
   "source": [
    "Explanation for the project "
   ]
  },
  {
   "cell_type": "code",
   "execution_count": null,
   "id": "aa81c746",
   "metadata": {},
   "outputs": [],
   "source": []
  },
  {
   "cell_type": "markdown",
   "id": "a83d631f",
   "metadata": {},
   "source": [
    "----------------------------------------------------------------------------------------------"
   ]
  },
  {
   "cell_type": "markdown",
   "id": "8cc692e6",
   "metadata": {},
   "source": [
    "<html>\n",
    "    <div align=\"left\"><img src=\"Results.gif\" width=\"200\" height=\"200\" align=\"left\">\n",
    "    </div>\n",
    "     <div >\n",
    "         <h3><br><br>Results </h3>\n",
    "    </div>\n",
    "</html>"
   ]
  },
  {
   "cell_type": "code",
   "execution_count": null,
   "id": "6046dc98",
   "metadata": {},
   "outputs": [],
   "source": []
  },
  {
   "cell_type": "markdown",
   "id": "4f99294c",
   "metadata": {},
   "source": [
    "----------------------------------------------------------------------------------------------"
   ]
  },
  {
   "cell_type": "markdown",
   "id": "8f0a998e",
   "metadata": {},
   "source": [
    "<div align=\"left\"> <img src=\"Summary.png\" width=\"300\" height=\"300\" align=\"left\"> </div>"
   ]
  },
  {
   "cell_type": "code",
   "execution_count": null,
   "id": "c9882375",
   "metadata": {},
   "outputs": [],
   "source": []
  }
 ],
 "metadata": {
  "kernelspec": {
   "display_name": "jupyter_jo",
   "language": "python",
   "name": "pycaret"
  },
  "language_info": {
   "codemirror_mode": {
    "name": "ipython",
    "version": 3
   },
   "file_extension": ".py",
   "mimetype": "text/x-python",
   "name": "python",
   "nbconvert_exporter": "python",
   "pygments_lexer": "ipython3",
   "version": "3.9.7"
  }
 },
 "nbformat": 4,
 "nbformat_minor": 5
}
